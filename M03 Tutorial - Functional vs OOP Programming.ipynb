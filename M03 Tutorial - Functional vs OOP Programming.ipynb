{
 "cells": [
  {
   "cell_type": "markdown",
   "id": "95470953",
   "metadata": {},
   "source": [
    "Sort an Array of 0s, 1s, and 2s"
   ]
  },
  {
   "cell_type": "code",
   "execution_count": 3,
   "id": "9532294a",
   "metadata": {},
   "outputs": [
    {
     "name": "stdout",
     "output_type": "stream",
     "text": [
      "[0, 1, 2, 2, 1, 0, 0]\n",
      "[0, 0, 0, 1, 1, 2, 2]\n"
     ]
    }
   ],
   "source": [
    "class Solution:\n",
    "    def sort012(self, arr, n):\n",
    "        arr.sort()\n",
    "        \n",
    "solution1 = Solution()\n",
    "arr1 = [0, 1, 2, 2, 1, 0, 0]\n",
    "print(arr1)\n",
    "N1 = len(arr1)\n",
    "solution1.sort012(arr1, N1)\n",
    "\n",
    "print(arr1)"
   ]
  },
  {
   "cell_type": "markdown",
   "id": "9e072998",
   "metadata": {},
   "source": [
    "Binary Search"
   ]
  },
  {
   "cell_type": "code",
   "execution_count": 47,
   "id": "9d66507c",
   "metadata": {},
   "outputs": [
    {
     "name": "stdout",
     "output_type": "stream",
     "text": [
      "4 was found in array at index 3. 30 was not found in array, and therefore -1 was returned.\n"
     ]
    }
   ],
   "source": [
    "class Solution:\n",
    "    def binarysearch(self, arr, n, k):\n",
    "        left = 0\n",
    "        right = n - 1\n",
    "        \n",
    "        while left <= right:\n",
    "            mid = left + (right - left) // 2\n",
    "            \n",
    "            if arr[mid] == k:\n",
    "                return mid\n",
    "            elif arr[mid] < k:\n",
    "                left = mid + 1\n",
    "            else:\n",
    "                right = mid - 1\n",
    "                \n",
    "        return -1\n",
    "    \n",
    "solution1 = Solution()\n",
    "arr1 = [1, 2, 3, 4, 5, 6, 7, 8, 9, 10]\n",
    "n1 = len(arr1)\n",
    "k1 = 4\n",
    "\n",
    "solution2 = Solution()\n",
    "arr2 = [1, 2, 3, 4, 5, 6, 7, 8, 9, 10]\n",
    "n2 = len(arr2)\n",
    "k2 = 30\n",
    "\n",
    "printsol1 = solution1.binarysearch(arr1, n1, k1)\n",
    "printsol2 = solution2.binarysearch(arr2, n2, k2)\n",
    "\n",
    "print(str(k1) + \" was found in array at index \" \n",
    "      + str(printsol1) + \". \" + str(k2) \n",
    "      + \" was not found in array, and therefore \" + str(printsol2) + \" was returned.\")"
   ]
  },
  {
   "cell_type": "code",
   "execution_count": null,
   "id": "e06a534a",
   "metadata": {},
   "outputs": [],
   "source": []
  }
 ],
 "metadata": {
  "kernelspec": {
   "display_name": "Python 3 (ipykernel)",
   "language": "python",
   "name": "python3"
  },
  "language_info": {
   "codemirror_mode": {
    "name": "ipython",
    "version": 3
   },
   "file_extension": ".py",
   "mimetype": "text/x-python",
   "name": "python",
   "nbconvert_exporter": "python",
   "pygments_lexer": "ipython3",
   "version": "3.11.4"
  }
 },
 "nbformat": 4,
 "nbformat_minor": 5
}
